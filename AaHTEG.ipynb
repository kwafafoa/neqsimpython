{
  "nbformat": 4,
  "nbformat_minor": 0,
  "metadata": {
    "colab": {
      "name": "AaHTEG",
      "provenance": [],
      "authorship_tag": "ABX9TyPDdGp2w4na+JlCu+QbhHfK",
      "include_colab_link": true
    },
    "kernelspec": {
      "name": "python3",
      "display_name": "Python 3"
    },
    "language_info": {
      "name": "python"
    }
  },
  "cells": [
    {
      "cell_type": "markdown",
      "metadata": {
        "id": "view-in-github",
        "colab_type": "text"
      },
      "source": [
        "<a href=\"https://colab.research.google.com/github/kwafafoa/neqsimpython/blob/master/AaHTEG.ipynb\" target=\"_parent\"><img src=\"https://colab.research.google.com/assets/colab-badge.svg\" alt=\"Open In Colab\"/></a>"
      ]
    },
    {
      "cell_type": "code",
      "execution_count": 64,
      "metadata": {
        "colab": {
          "base_uri": "https://localhost:8080/"
        },
        "id": "yyJLaPA8_3n-",
        "outputId": "13a9d002-e4e1-40c4-c61b-bfc8c780465a"
      },
      "outputs": [
        {
          "output_type": "stream",
          "name": "stdout",
          "text": [
            "Requirement already satisfied: neqsim in /usr/local/lib/python3.7/dist-packages (2.3.17)\n",
            "Requirement already satisfied: pandas in /usr/local/lib/python3.7/dist-packages (from neqsim) (1.3.5)\n",
            "Requirement already satisfied: jpype1 in /usr/local/lib/python3.7/dist-packages (from neqsim) (1.3.0)\n",
            "Requirement already satisfied: matplotlib in /usr/local/lib/python3.7/dist-packages (from neqsim) (3.2.2)\n",
            "Requirement already satisfied: typing-extensions in /usr/local/lib/python3.7/dist-packages (from jpype1->neqsim) (3.10.0.2)\n",
            "Requirement already satisfied: cycler>=0.10 in /usr/local/lib/python3.7/dist-packages (from matplotlib->neqsim) (0.11.0)\n",
            "Requirement already satisfied: python-dateutil>=2.1 in /usr/local/lib/python3.7/dist-packages (from matplotlib->neqsim) (2.8.2)\n",
            "Requirement already satisfied: kiwisolver>=1.0.1 in /usr/local/lib/python3.7/dist-packages (from matplotlib->neqsim) (1.3.2)\n",
            "Requirement already satisfied: numpy>=1.11 in /usr/local/lib/python3.7/dist-packages (from matplotlib->neqsim) (1.21.5)\n",
            "Requirement already satisfied: pyparsing!=2.0.4,!=2.1.2,!=2.1.6,>=2.0.1 in /usr/local/lib/python3.7/dist-packages (from matplotlib->neqsim) (3.0.7)\n",
            "Requirement already satisfied: six>=1.5 in /usr/local/lib/python3.7/dist-packages (from python-dateutil>=2.1->matplotlib->neqsim) (1.15.0)\n",
            "Requirement already satisfied: pytz>=2017.3 in /usr/local/lib/python3.7/dist-packages (from pandas->neqsim) (2018.9)\n"
          ]
        }
      ],
      "source": [
        "!pip install neqsim"
      ]
    },
    {
      "cell_type": "code",
      "source": [
        "import neqsim\n",
        "from neqsim.thermo.thermoTools import*\n",
        "import pandas as pd\n"
      ],
      "metadata": {
        "id": "jf318V4TAjZd"
      },
      "execution_count": 65,
      "outputs": []
    },
    {
      "cell_type": "code",
      "source": [
        "inputdata = {\n",
        "    'feed1Temperature':26.00,\n",
        "    'feed1Pressure': 87.20,\n",
        "    'feed1Flowrate': 588200.00,\n",
        "    'cooler1T': 21.80,\n",
        "    'heater1T': 27.00,\n",
        "    'heater1P': 86.2,\n",
        "    'leanTEGFlowRate':200.00,\n",
        "    'leanTEGTemperature': 35.3,\n",
        "    'numberOfEquilibriumStagesTEGabsorber': 3,\n",
        "  'stageEfficiencyTEGabsorber': 1.0,\n",
        "\n",
        "\n",
        "\n",
        "    \n",
        "}"
      ],
      "metadata": {
        "id": "I_akgCIkBGCf"
      },
      "execution_count": 80,
      "outputs": []
    },
    {
      "cell_type": "code",
      "source": [
        "from neqsim.thermo import fluid, printFrame\n",
        "feedFluid1 = fluid('cpa')\n",
        "feedFluid1 = {'ComponentName':['water', 'TEG', 'nitrogen', 'CO2','methane','ethane','propane','i-butane','n-butane','22-Mpropane','i-pentane','n-pentane','HaklangC6*', 'HaklangC7*','HaklangC8*','HaklangC9*','HaklangC10*'],\n",
        "               'MolarComposition[-]':[0.000423,0.000,0.008229,0.005630,0.929444,0.034861,0.012438,0.002266,0.003084,0.000038,0.001048,0.000870,0.000799,0.000822,0.000040,0.000007,0.000001],\n",
        "               'MolarMass[kg/mol]': [None,None,None,None,None,None,None,None,None,None,None,None,0.08420,0.0905,0.10320,0.11750,0.13400],\n",
        "               'RelativeDensity[-]': [None,None,None,None,None,None,None,None,None,None,None,None,0.66980,0.73940,0.76900,0.78740,0.79580]\n",
        "}\n",
        "\n",
        "Inletstream = pd.DataFrame(feedFluid1)\n",
        "print(Inletstream.head(20).to_string())\n",
        "fluid1 = fluid_df(Inletstream)\n",
        "\n",
        "feedTEG = fluid1.clone()\n",
        "feedTEG.setMolarComposition([0.05,0.95,0.0,0.0,0.0,0.0,0.0,0.0,0.0,0.0,0.0,0.0,0.0,0.0,0.0,0.0,0.0])\n",
        "\n",
        "\n"
      ],
      "metadata": {
        "colab": {
          "base_uri": "https://localhost:8080/"
        },
        "id": "rgv_LjShGQ-3",
        "outputId": "0835aa0c-8228-44c4-8ebf-a8086f8a6434"
      },
      "execution_count": 69,
      "outputs": [
        {
          "output_type": "stream",
          "name": "stdout",
          "text": [
            "   ComponentName  MolarComposition[-]  MolarMass[kg/mol]  RelativeDensity[-]\n",
            "0          water             0.000423                NaN                 NaN\n",
            "1            TEG             0.000000                NaN                 NaN\n",
            "2       nitrogen             0.008229                NaN                 NaN\n",
            "3            CO2             0.005630                NaN                 NaN\n",
            "4        methane             0.929444                NaN                 NaN\n",
            "5         ethane             0.034861                NaN                 NaN\n",
            "6        propane             0.012438                NaN                 NaN\n",
            "7       i-butane             0.002266                NaN                 NaN\n",
            "8       n-butane             0.003084                NaN                 NaN\n",
            "9    22-Mpropane             0.000038                NaN                 NaN\n",
            "10     i-pentane             0.001048                NaN                 NaN\n",
            "11     n-pentane             0.000870                NaN                 NaN\n",
            "12    HaklangC6*             0.000799             0.0842              0.6698\n",
            "13    HaklangC7*             0.000822             0.0905              0.7394\n",
            "14    HaklangC8*             0.000040             0.1032              0.7690\n",
            "15    HaklangC9*             0.000007             0.1175              0.7874\n",
            "16   HaklangC10*             0.000001             0.1340              0.7958\n"
          ]
        }
      ]
    },
    {
      "cell_type": "code",
      "source": [
        "from neqsim.process import clearProcess, runProcess,stream,cooler,separator,heater,simpleTEGAbsorber\n",
        "clearProcess()\n",
        "\n",
        "feedStream1 = stream(fluid1)\n",
        "feedStream1.setTemperature(inputdata['feed1Temperature'],'C')\n",
        "feedStream1.setPressure(inputdata['feed1Pressure'],'barg')\n",
        "feedStream1.setFlowRate(inputdata['feed1Flowrate'],'kg/hr')\n",
        "\n",
        "cooler1 = cooler(feedStream1)\n",
        "cooler1.setOutTemperature(inputdata['cooler1T'],'C')\n",
        "\n",
        "Scrubber1 = separator(cooler1.getOutStream())\n",
        "gasFromScrubber1= stream(Scrubber1.getGasOutStream())\n",
        "\n",
        "heater1 = heater(Scrubber1.getGasOutStream())\n",
        "heater1.setOutTemperature(inputdata['heater1T'],'C')\n",
        "heater1.setOutPressure(inputdata['heater1P'],'barg')\n",
        "\n",
        "feedToabsorber = stream(heater1.getOutStream())\n",
        "\n",
        "TEGFeed = stream(feedTEG)\n",
        "TEGFeed.setFlowRate(inputdata['leanTEGFlowRate'], 'kg/hr')\n",
        "TEGFeed.setTemperature(inputdata['leanTEGTemperature'], 'C')\n",
        "TEGFeed.setPressure(inputdata['heater1P'], 'barg')\n",
        "\n",
        "absorber = simpleTEGAbsorber()\n",
        "absorber.addGasInStream(feedToabsorber)\n",
        "absorber.addSolventInStream(TEGFeed)\n",
        "absorber.setNumberOfStages(inputdata['numberOfEquilibriumStagesTEGabsorber'])\n",
        "absorber.setStageEfficiency(inputdata['stageEfficiencyTEGabsorber'])\n",
        "absorber.setInternalDiameter(1.7)\n",
        "\n",
        "\n",
        "dehydratedGas = stream(absorber.getGasOutStream())\n",
        "richTEG = stream(absorber.getSolventOutStream())\n",
        "\n",
        "\n",
        "\n",
        "\n",
        "\n",
        "\n",
        "runProcess()"
      ],
      "metadata": {
        "id": "u8n0nGYlDrTh"
      },
      "execution_count": 87,
      "outputs": []
    },
    {
      "cell_type": "code",
      "source": [
        "printFrame(richTEG.getFluid())"
      ],
      "metadata": {
        "colab": {
          "base_uri": "https://localhost:8080/"
        },
        "id": "CMxrl3dBH4qb",
        "outputId": "cf3b3391-df1e-4968-d4c1-2b3727f1d766"
      },
      "execution_count": 89,
      "outputs": [
        {
          "output_type": "stream",
          "name": "stdout",
          "text": [
            "                         total               gas           aqueous                  \n",
            "             water  7.83383E-1        2.72562E-4        7.83557E-1   [mole fraction]\n",
            "               TEG  2.15818E-1       2.99092E-11        2.15866E-1   [mole fraction]\n",
            "          nitrogen  2.56863E-6        5.90795E-3        1.25727E-6   [mole fraction]\n",
            "               CO2  1.14066E-4        6.00453E-3        1.12758E-4   [mole fraction]\n",
            "           methane  6.65942E-4        9.50576E-1        4.55003E-4   [mole fraction]\n",
            "            ethane  1.44078E-5        3.28824E-2        7.10911E-6   [mole fraction]\n",
            "           propane   6.3403E-7        2.64564E-3        4.66749E-8   [mole fraction]\n",
            "          i-butane   1.3531E-8        6.05389E-5       9.06101E-11   [mole fraction]\n",
            "          n-butane   2.8674E-8         1.2781E-4       2.98723E-10   [mole fraction]\n",
            "         i-pentane  1.48455E-9        6.67872E-6       1.78957E-12   [mole fraction]\n",
            "         n-pentane  1.15298E-9        5.18767E-6       1.24945E-12   [mole fraction]\n",
            "     HaklangC6*_PC   8.9558E-8        3.53917E-4        1.09865E-8   [mole fraction]\n",
            "     HaklangC7*_PC  4.34126E-7        1.13146E-3         1.8297E-7   [mole fraction]\n",
            "     HaklangC8*_PC  6.40312E-9        2.45103E-5        9.6175E-10   [mole fraction]\n",
            "     HaklangC9*_PC 1.83322E-10        8.08287E-7       3.87342E-12   [mole fraction]\n",
            "    HaklangC10*_PC 1.89211E-12        8.51354E-9       2.00422E-15   [mole fraction]\n",
            "                                                                                    \n",
            "           Density                     6.85092E1         1.04983E3          [kg/m^3]\n",
            "     PhaseFraction                    2.22012E-4        9.99778E-1   [mole fraction]\n",
            "         MolarMass   4.65395E1         1.69368E1          4.6546E1         [kg/kmol]\n",
            "          Z factor                    8.66437E-1        2.01527E-1               [-]\n",
            "Heat Capacity (Cp)                     2.87952E0         3.48372E0         [kJ/kg*K]\n",
            "Heat Capacity (Cv)                     1.76041E0         2.93597E0         [kJ/kg*K]\n",
            "    Speed of Sound                     4.34394E2         2.70985E3           [m/sec]\n",
            "          Enthalpy  -1.35503E3        -3.52048E1        -1.35514E3           [kJ/kg]\n",
            "           Entropy  -3.04097E0        -2.09826E0        -3.04104E0         [kJ/kg*K]\n",
            "    JT coefficient                    3.59357E-1       -2.97753E-2           [K/bar]\n",
            "                                                                                    \n",
            "         Viscosity                    1.36421E-5        1.10192E-2        [kg/m*sec]\n",
            "      Conductivity                    4.38804E-2        3.47451E-1           [W/m*K]\n",
            "    SurfaceTension                           0E0               0E0             [N/m]\n",
            "                                                                                    \n",
            "                                                                                    \n",
            "                                                                                    \n",
            "          Pressure                      87.21325          87.21325             [bar]\n",
            "       Temperature             300.2483587944085 300.2483587944085               [K]\n",
            "                                                                                    \n",
            "             Model                       SRK-EOS           SRK-EOS                 -\n",
            "       Mixing Rule                       classic           classic                 -\n",
            "                                                                                    \n",
            "            Stream                                                                 -\n",
            "                                                                                    \n",
            "                                                                                    \n",
            "                                                                                    \n",
            "                                                                                    \n"
          ]
        }
      ]
    }
  ]
}