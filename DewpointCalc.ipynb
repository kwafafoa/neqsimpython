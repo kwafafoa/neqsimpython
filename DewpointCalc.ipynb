{
  "nbformat": 4,
  "nbformat_minor": 0,
  "metadata": {
    "colab": {
      "name": "DewpointCalc",
      "provenance": [],
      "collapsed_sections": [],
      "authorship_tag": "ABX9TyOioSLkDQY88GesGi7Ex9Zn",
      "include_colab_link": true
    },
    "kernelspec": {
      "name": "python3",
      "display_name": "Python 3"
    },
    "language_info": {
      "name": "python"
    }
  },
  "cells": [
    {
      "cell_type": "markdown",
      "metadata": {
        "id": "view-in-github",
        "colab_type": "text"
      },
      "source": [
        "<a href=\"https://colab.research.google.com/github/kwafafoa/neqsimpython/blob/master/DewpointCalc.ipynb\" target=\"_parent\"><img src=\"https://colab.research.google.com/assets/colab-badge.svg\" alt=\"Open In Colab\"/></a>"
      ]
    },
    {
      "cell_type": "code",
      "execution_count": 1,
      "metadata": {
        "colab": {
          "base_uri": "https://localhost:8080/"
        },
        "id": "Fhv_jKPteffD",
        "outputId": "1e0fff53-7209-4fcd-f22b-4325ac955206"
      },
      "outputs": [
        {
          "output_type": "stream",
          "name": "stdout",
          "text": [
            "Collecting neqsim\n",
            "  Downloading neqsim-2.3.17-py3-none-any.whl (30.7 MB)\n",
            "\u001b[K     |████████████████████████████████| 30.7 MB 126 kB/s \n",
            "\u001b[?25hCollecting jpype1\n",
            "  Downloading JPype1-1.3.0-cp37-cp37m-manylinux_2_5_x86_64.manylinux1_x86_64.whl (448 kB)\n",
            "\u001b[K     |████████████████████████████████| 448 kB 11.8 MB/s \n",
            "\u001b[?25hRequirement already satisfied: pandas in /usr/local/lib/python3.7/dist-packages (from neqsim) (1.3.5)\n",
            "Requirement already satisfied: matplotlib in /usr/local/lib/python3.7/dist-packages (from neqsim) (3.2.2)\n",
            "Requirement already satisfied: typing-extensions in /usr/local/lib/python3.7/dist-packages (from jpype1->neqsim) (3.10.0.2)\n",
            "Requirement already satisfied: cycler>=0.10 in /usr/local/lib/python3.7/dist-packages (from matplotlib->neqsim) (0.11.0)\n",
            "Requirement already satisfied: kiwisolver>=1.0.1 in /usr/local/lib/python3.7/dist-packages (from matplotlib->neqsim) (1.3.2)\n",
            "Requirement already satisfied: python-dateutil>=2.1 in /usr/local/lib/python3.7/dist-packages (from matplotlib->neqsim) (2.8.2)\n",
            "Requirement already satisfied: pyparsing!=2.0.4,!=2.1.2,!=2.1.6,>=2.0.1 in /usr/local/lib/python3.7/dist-packages (from matplotlib->neqsim) (3.0.7)\n",
            "Requirement already satisfied: numpy>=1.11 in /usr/local/lib/python3.7/dist-packages (from matplotlib->neqsim) (1.21.5)\n",
            "Requirement already satisfied: six>=1.5 in /usr/local/lib/python3.7/dist-packages (from python-dateutil>=2.1->matplotlib->neqsim) (1.15.0)\n",
            "Requirement already satisfied: pytz>=2017.3 in /usr/local/lib/python3.7/dist-packages (from pandas->neqsim) (2018.9)\n",
            "Installing collected packages: jpype1, neqsim\n",
            "Successfully installed jpype1-1.3.0 neqsim-2.3.17\n"
          ]
        }
      ],
      "source": [
        "!pip install neqsim\n"
      ]
    },
    {
      "cell_type": "code",
      "source": [
        "import neqsim\n",
        "from neqsim.thermo.thermoTools import*\n",
        "import pandas as pd\n"
      ],
      "metadata": {
        "id": "A0TQBRIqfWB6"
      },
      "execution_count": 2,
      "outputs": []
    },
    {
      "cell_type": "code",
      "source": [
        "inputdata = {\n",
        "    'feedFlowRateTrain1': 11411.9,\n",
        "    'feedPressure': 89.0,\n",
        "    'feedTemperature':5.0,\n",
        "    'sep1pressure': 85.0,\n",
        "    'cooler1T': -5.0,\n",
        "    'glycolflow': 1.0,\n",
        "    'expOutPressure':67.0\n",
        "  \n",
        "    }"
      ],
      "metadata": {
        "id": "VFnec8Lgfkie"
      },
      "execution_count": 133,
      "outputs": []
    },
    {
      "cell_type": "code",
      "source": [
        "feedFluid = {'ComponentName':  ['water','MEG','methane','ethane','C6','C7'],\n",
        "             'MolarComposition[-]':[1.0, 0.0, 0.5, 0.1, 0.1, 0.3],\n",
        "             'MolarMass[kg/mol]': [None, None, None, None, 0.091, 0.19],\n",
        "             'RelativeDensity[-]': [None, None, None, None, 0.7, 0.86]\n",
        "}\n",
        "reservoirFluidf = pd.DataFrame(feedFluid)\n",
        "print(reservoirFluidf.head(20).to_string())\n",
        "fluid7 = fluid_df(reservoirFluidf)\n",
        "\n",
        "glycolFluid = fluid7.clone()\n",
        "glycolFluid.setMolarComposition([0.0, 1.0, 0.0, 0.0, 0.0, 0.0])"
      ],
      "metadata": {
        "colab": {
          "base_uri": "https://localhost:8080/"
        },
        "id": "J8-I672vgb2H",
        "outputId": "f966d1f6-2f15-4e59-aa10-f1651103c9e6"
      },
      "execution_count": 111,
      "outputs": [
        {
          "output_type": "stream",
          "name": "stdout",
          "text": [
            "  ComponentName  MolarComposition[-]  MolarMass[kg/mol]  RelativeDensity[-]\n",
            "0         water                  1.0                NaN                 NaN\n",
            "1           MEG                  0.0                NaN                 NaN\n",
            "2       methane                  0.5                NaN                 NaN\n",
            "3        ethane                  0.1                NaN                 NaN\n",
            "4            C6                  0.1              0.091                0.70\n",
            "5            C7                  0.3              0.190                0.86\n"
          ]
        }
      ]
    },
    {
      "cell_type": "code",
      "source": [
        "from neqsim.process import clearProcess, runProcess, separator3phase, stream, valve, cooler, expander, mixer\n",
        "clearProcess()\n",
        "feedStream = stream(fluid7)\n",
        "feedStream.setFlowRate(inputdata['feedFlowRateTrain1'], 'kg/hr')\n",
        "feedStream.setPressure(inputdata['feedPressure'], 'barg')\n",
        "feedStream.setTemperature(inputdata['feedTemperature'],'C')\n",
        "\n",
        "glycolfeedStream = stream(glycolFluid)\n",
        "\n",
        "\n",
        "\n",
        "slugcatcher = separator3phase(feedStream)\n",
        "gasFromslugcatcher = stream(slugcatcher.getGasOutStream())\n",
        "\n",
        "valve1 = valve(gasFromslugcatcher)\n",
        "valve1.setOutletPressure(inputdata['sep1pressure'], 'barg')\n",
        "\n",
        "sep1 = separator3phase(valve1.getOutStream())\n",
        "\n",
        "cooler1 = cooler(sep1.getGasOutStream())\n",
        "cooler1.setOutTemperature(inputdata['cooler1T'], 'C')\n",
        "\n",
        "sep2 = separator3phase(cooler1.getOutStream())\n",
        "\n",
        "mixer1 = mixer()\n",
        "mixer1.addStream(sep2.getGasOutStream())\n",
        "mixer1.addStream(glycolfeedStream)\n",
        "\n",
        "expander1 = expander(mixer1.getOutStream(),inputdata['expOutPressure'])\n",
        "\n",
        "sep3 = separator3phase(expander1.getOutStream())\n",
        "\n",
        "gasexport = stream(sep3.getGasOutStream())\n",
        "\n",
        "\n",
        "\n",
        "\n",
        "\n",
        "\n",
        "\n",
        "\n",
        "\n",
        "\n",
        "\n",
        "\n",
        "\n",
        "\n",
        "\n",
        "\n",
        "\n",
        "\n",
        "\n",
        "\n",
        "\n",
        "\n",
        "\n",
        "\n",
        "runProcess()"
      ],
      "metadata": {
        "id": "wlJA3Slfrso8"
      },
      "execution_count": 144,
      "outputs": []
    },
    {
      "cell_type": "code",
      "source": [
        "printFrame(sep3.getFluid())\n",
        "\n",
        "gasexport.setPressure(70.0,'bara')\n",
        "print('hydrate/water dew point temperature',(gasexport.getHydrateEquilibriumTemperature()-273.15))\n"
      ],
      "metadata": {
        "colab": {
          "base_uri": "https://localhost:8080/"
        },
        "id": "ccnfSxDYvNJI",
        "outputId": "8bc80c4f-32e8-4bfe-bc22-98d8d7c3ecdc"
      },
      "execution_count": 149,
      "outputs": [
        {
          "output_type": "stream",
          "name": "stdout",
          "text": [
            "                        total               gas               oil           aqueous                 \n",
            "             water 4.68785E-5        4.42998E-8        5.52266E-7        2.59041E-4  [mole fraction]\n",
            "               MEG 1.80643E-1        6.62357E-7        2.25046E-4        9.98966E-1  [mole fraction]\n",
            "           methane 7.60531E-1        9.28266E-1        2.94011E-1        7.14021E-4  [mole fraction]\n",
            "            ethane 5.81078E-2        7.09207E-2         1.1901E-1        6.11017E-5  [mole fraction]\n",
            "             C6_PC 6.68475E-4        8.11682E-4        3.22828E-1        6.13866E-9  [mole fraction]\n",
            "             C7_PC 3.78753E-6        1.05446E-6        2.63925E-1       2.69622E-16  [mole fraction]\n",
            "                                                                                                    \n",
            "           Density                    6.34633E1         7.28972E2         1.25201E3         [kg/m^3]\n",
            "     PhaseFraction                    8.1916E-1         1.1078E-5        1.80829E-1  [mole fraction]\n",
            "         MolarMass  2.52232E1         1.70989E1         8.78325E1         6.20228E1        [kg/kmol]\n",
            "          Z factor                   8.10408E-1        4.03961E-1        1.85601E-1              [-]\n",
            "Heat Capacity (Cp)                    2.98696E0         2.09143E0         2.72173E0        [kJ/kg*K]\n",
            "Heat Capacity (Cv)                    1.69477E0         1.79217E0         2.37925E0        [kJ/kg*K]\n",
            "    Speed of Sound                    3.92955E2         1.11716E3         2.76818E3          [m/sec]\n",
            "          Enthalpy -5.47466E2         -1.0636E2        -4.01608E2        -1.09836E3          [kJ/kg]\n",
            "           Entropy -2.34877E0        -2.21149E0        -1.11162E0        -2.52033E0        [kJ/kg*K]\n",
            "    JT coefficient                   5.24328E-1       -5.32262E-2       -3.23683E-2          [K/bar]\n",
            "                                                                                                    \n",
            "         Viscosity                   1.22207E-5        4.91196E-4        6.98198E-2       [kg/m*sec]\n",
            "      Conductivity                   3.89089E-2        1.24602E-1        3.07494E-1          [W/m*K]\n",
            "    SurfaceTension                   9.54941E-3        9.54941E-3                              [N/m]\n",
            "                                                       3.79535E-2        3.79535E-2            [N/m]\n",
            "                                     4.60102E-2                          4.60102E-2            [N/m]\n",
            "                                                                                                    \n",
            "          Pressure                         67.0              67.0              67.0            [bar]\n",
            "       Temperature            268.7342355934131 268.7342355934131 268.7342355934131              [K]\n",
            "                                                                                                    \n",
            "             Model                      SRK-EOS           SRK-EOS           SRK-EOS                -\n",
            "       Mixing Rule                      classic           classic           classic                -\n",
            "                                                                                                    \n",
            "            Stream                                                                                 -\n",
            "                                                                                                    \n",
            "                                                                                                    \n",
            "                                                                                                    \n",
            "                                                                                                    \n",
            "hydrate/water dew point temperature -78.01644883313662\n"
          ]
        }
      ]
    }
  ]
}