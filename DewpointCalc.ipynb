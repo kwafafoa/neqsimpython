{
  "nbformat": 4,
  "nbformat_minor": 0,
  "metadata": {
    "colab": {
      "name": "DewpointCalc",
      "provenance": [],
      "collapsed_sections": [],
      "authorship_tag": "ABX9TyMsJLap5xMdmF7Ev5P3cIWA",
      "include_colab_link": true
    },
    "kernelspec": {
      "name": "python3",
      "display_name": "Python 3"
    },
    "language_info": {
      "name": "python"
    }
  },
  "cells": [
    {
      "cell_type": "markdown",
      "metadata": {
        "id": "view-in-github",
        "colab_type": "text"
      },
      "source": [
        "<a href=\"https://colab.research.google.com/github/kwafafoa/neqsimpython/blob/master/DewpointCalc.ipynb\" target=\"_parent\"><img src=\"https://colab.research.google.com/assets/colab-badge.svg\" alt=\"Open In Colab\"/></a>"
      ]
    },
    {
      "cell_type": "code",
      "execution_count": 4,
      "metadata": {
        "colab": {
          "base_uri": "https://localhost:8080/"
        },
        "id": "Fhv_jKPteffD",
        "outputId": "ce5e6c47-1085-4eb7-fbb7-d1130c15f6b9"
      },
      "outputs": [
        {
          "output_type": "stream",
          "name": "stdout",
          "text": [
            "Collecting neqsim\n",
            "  Downloading neqsim-2.3.17-py3-none-any.whl (30.7 MB)\n",
            "\u001b[K     |████████████████████████████████| 30.7 MB 55.9 MB/s \n",
            "\u001b[?25hCollecting jpype1\n",
            "  Downloading JPype1-1.3.0-cp37-cp37m-manylinux_2_5_x86_64.manylinux1_x86_64.whl (448 kB)\n",
            "\u001b[K     |████████████████████████████████| 448 kB 56.1 MB/s \n",
            "\u001b[?25hRequirement already satisfied: matplotlib in /usr/local/lib/python3.7/dist-packages (from neqsim) (3.2.2)\n",
            "Requirement already satisfied: pandas in /usr/local/lib/python3.7/dist-packages (from neqsim) (1.3.5)\n",
            "Requirement already satisfied: typing-extensions in /usr/local/lib/python3.7/dist-packages (from jpype1->neqsim) (3.10.0.2)\n",
            "Requirement already satisfied: cycler>=0.10 in /usr/local/lib/python3.7/dist-packages (from matplotlib->neqsim) (0.11.0)\n",
            "Requirement already satisfied: numpy>=1.11 in /usr/local/lib/python3.7/dist-packages (from matplotlib->neqsim) (1.21.5)\n",
            "Requirement already satisfied: python-dateutil>=2.1 in /usr/local/lib/python3.7/dist-packages (from matplotlib->neqsim) (2.8.2)\n",
            "Requirement already satisfied: kiwisolver>=1.0.1 in /usr/local/lib/python3.7/dist-packages (from matplotlib->neqsim) (1.3.2)\n",
            "Requirement already satisfied: pyparsing!=2.0.4,!=2.1.2,!=2.1.6,>=2.0.1 in /usr/local/lib/python3.7/dist-packages (from matplotlib->neqsim) (3.0.7)\n",
            "Requirement already satisfied: six>=1.5 in /usr/local/lib/python3.7/dist-packages (from python-dateutil>=2.1->matplotlib->neqsim) (1.15.0)\n",
            "Requirement already satisfied: pytz>=2017.3 in /usr/local/lib/python3.7/dist-packages (from pandas->neqsim) (2018.9)\n",
            "Installing collected packages: jpype1, neqsim\n",
            "Successfully installed jpype1-1.3.0 neqsim-2.3.17\n"
          ]
        }
      ],
      "source": [
        "!pip install neqsim\n"
      ]
    },
    {
      "cell_type": "code",
      "source": [
        "import neqsim\n",
        "from neqsim.thermo.thermoTools import*\n",
        "import pandas as pd\n"
      ],
      "metadata": {
        "id": "A0TQBRIqfWB6"
      },
      "execution_count": 5,
      "outputs": []
    },
    {
      "cell_type": "code",
      "source": [
        "inputdata = {\n",
        "    'feedFlowRateTrain1': 11411.9,\n",
        "    'feedPressure': 89.0,\n",
        "    'feedTemperature':4.0,\n",
        "    'sep1pressure': 85.0,\n",
        "    'cooler1T': -7.0,\n",
        "    'glycolflow': 1.0,\n",
        "    'expOutPressure':67.0\n",
        "  \n",
        "    }"
      ],
      "metadata": {
        "id": "VFnec8Lgfkie"
      },
      "execution_count": 10,
      "outputs": []
    },
    {
      "cell_type": "code",
      "source": [
        "feedFluid = {'ComponentName':  ['water','MEG','methane','ethane','C6','C7'],\n",
        "             'MolarComposition[-]':[1.0, 0.0, 0.5, 0.1, 0.1, 0.3],\n",
        "             'MolarMass[kg/mol]': [None, None, None, None, 0.091, 0.19],\n",
        "             'RelativeDensity[-]': [None, None, None, None, 0.7, 0.86]\n",
        "}\n",
        "reservoirFluidf = pd.DataFrame(feedFluid)\n",
        "print(reservoirFluidf.head(20).to_string())\n",
        "fluid7 = fluid_df(reservoirFluidf)\n",
        "\n",
        "glycolFluid = fluid7.clone()\n",
        "glycolFluid.setMolarComposition([0.0, 1.0, 0.0, 0.0, 0.0, 0.0])"
      ],
      "metadata": {
        "colab": {
          "base_uri": "https://localhost:8080/"
        },
        "id": "J8-I672vgb2H",
        "outputId": "f20a6bcc-8b46-40b9-cb0d-ecccd5e7f2b5"
      },
      "execution_count": 11,
      "outputs": [
        {
          "output_type": "stream",
          "name": "stdout",
          "text": [
            "  ComponentName  MolarComposition[-]  MolarMass[kg/mol]  RelativeDensity[-]\n",
            "0         water                  1.0                NaN                 NaN\n",
            "1           MEG                  0.0                NaN                 NaN\n",
            "2       methane                  0.5                NaN                 NaN\n",
            "3        ethane                  0.1                NaN                 NaN\n",
            "4            C6                  0.1              0.091                0.70\n",
            "5            C7                  0.3              0.190                0.86\n"
          ]
        }
      ]
    },
    {
      "cell_type": "code",
      "source": [
        "from neqsim.process import clearProcess, runProcess, separator3phase, stream, valve, cooler, expander, mixer\n",
        "clearProcess()\n",
        "feedStream = stream(fluid7)\n",
        "feedStream.setFlowRate(inputdata['feedFlowRateTrain1'], 'kg/hr')\n",
        "feedStream.setPressure(inputdata['feedPressure'], 'barg')\n",
        "feedStream.setTemperature(inputdata['feedTemperature'],'C')\n",
        "\n",
        "glycolfeedStream = stream(glycolFluid)\n",
        "glycolfeedStream.setPressure(inputdata['feedPressure'],'barg')\n",
        "glycolfeedStream.setTemperature(inputdata['feedTemperature'],'C')\n",
        "glycolfeedStream.setFlowRate(inputdata['glycolflow'],'kg/hr')\n",
        "\n",
        "\n",
        "\n",
        "\n",
        "slugcatcher = separator3phase(feedStream)\n",
        "gasFromslugcatcher = stream(slugcatcher.getGasOutStream())\n",
        "\n",
        "valve1 = valve(gasFromslugcatcher)\n",
        "valve1.setOutletPressure(inputdata['sep1pressure'], 'barg')\n",
        "\n",
        "sep1 = separator3phase(valve1.getOutStream())\n",
        "\n",
        "cooler1 = cooler(sep1.getGasOutStream())\n",
        "cooler1.setOutTemperature(inputdata['cooler1T'], 'C')\n",
        "\n",
        "sep2 = separator3phase(cooler1.getOutStream())\n",
        "\n",
        "mixer1 = mixer()\n",
        "mixer1.addStream(sep2.getGasOutStream())\n",
        "mixer1.addStream(glycolfeedStream)\n",
        "\n",
        "expander1 = expander(mixer1.getOutStream(),inputdata['expOutPressure'])\n",
        "\n",
        "sep3 = separator3phase(expander1.getOutStream())\n",
        "\n",
        "gasexport = stream(sep3.getGasOutStream())\n",
        "\n",
        "\n",
        "feedStream2 = stream(fluid7)\n",
        "\n",
        "\n",
        "\n",
        "\n",
        "\n",
        "\n",
        "\n",
        "\n",
        "\n",
        "\n",
        "\n",
        "\n",
        "\n",
        "\n",
        "\n",
        "\n",
        "\n",
        "\n",
        "\n",
        "\n",
        "\n",
        "\n",
        "\n",
        "\n",
        "runProcess()"
      ],
      "metadata": {
        "id": "wlJA3Slfrso8"
      },
      "execution_count": 22,
      "outputs": []
    },
    {
      "cell_type": "code",
      "source": [
        ""
      ],
      "metadata": {
        "id": "8C6YWYtrir8F"
      },
      "execution_count": null,
      "outputs": []
    },
    {
      "cell_type": "code",
      "source": [
        "printFrame(gasexport.getFluid())\n",
        "\n",
        "\n",
        "gasexport.setPressure(70.0,'bara')\n",
        "print('hydrate/water dew point temperature',gasexport.getHydrateEquilibriumTemperature()-273.15)\n"
      ],
      "metadata": {
        "colab": {
          "base_uri": "https://localhost:8080/"
        },
        "id": "ccnfSxDYvNJI",
        "outputId": "8993b8cc-2d3d-4b00-9d7d-5b654db2b76e"
      },
      "execution_count": 29,
      "outputs": [
        {
          "output_type": "stream",
          "name": "stdout",
          "text": [
            "                        total               gas                   \n",
            "             water 3.17605E-6        3.17605E-6    [mole fraction]\n",
            "               MEG 9.50701E-8        9.50701E-8    [mole fraction]\n",
            "           methane  9.2915E-1         9.2915E-1    [mole fraction]\n",
            "            ethane 7.02136E-2        7.02136E-2    [mole fraction]\n",
            "             C6_PC 6.33122E-4        6.33122E-4    [mole fraction]\n",
            "             C7_PC 1.81531E-8        1.81531E-8    [mole fraction]\n",
            "                                                                  \n",
            "           Density                    7.94322E1           [kg/m^3]\n",
            "     PhaseFraction                          1E0    [mole fraction]\n",
            "         MolarMass  1.70754E1         1.70754E1          [kg/kmol]\n",
            "          Z factor                   7.28621E-1                [-]\n",
            "Heat Capacity (Cp)                    3.52863E0          [kJ/kg*K]\n",
            "Heat Capacity (Cv)                    1.67787E0          [kJ/kg*K]\n",
            "    Speed of Sound                    3.71484E2            [m/sec]\n",
            "          Enthalpy -1.73857E2        -1.73857E2            [kJ/kg]\n",
            "           Entropy -2.49331E0        -2.49331E0          [kJ/kg*K]\n",
            "    JT coefficient                   5.91646E-1            [K/bar]\n",
            "                                                                  \n",
            "         Viscosity                   1.22308E-5         [kg/m*sec]\n",
            "      Conductivity                   3.88599E-2            [W/m*K]\n",
            "    SurfaceTension                                           [N/m]\n",
            "                                                                  \n",
            "                                                                  \n",
            "                                                                  \n",
            "          Pressure                         70.0              [bar]\n",
            "       Temperature            249.3493385598724                [K]\n",
            "                                                                  \n",
            "             Model                      SRK-EOS                  -\n",
            "       Mixing Rule                      classic                  -\n",
            "                                                                  \n",
            "            Stream                                               -\n",
            "                                                                  \n",
            "                                                                  \n",
            "                                                                  \n",
            "                                                                  \n",
            "hydrate/water dew point temperature -31.7314232989103\n"
          ]
        }
      ]
    },
    {
      "cell_type": "code",
      "source": [
        ""
      ],
      "metadata": {
        "id": "LbY5kt7mhqSH"
      },
      "execution_count": null,
      "outputs": []
    },
    {
      "cell_type": "code",
      "source": [
        ""
      ],
      "metadata": {
        "id": "pEMLUcubhweP"
      },
      "execution_count": null,
      "outputs": []
    }
  ]
}